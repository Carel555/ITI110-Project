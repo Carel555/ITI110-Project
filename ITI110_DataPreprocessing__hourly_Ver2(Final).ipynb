{
  "cells": [
    {
      "cell_type": "markdown",
      "id": "0a614369-e5e3-46fd-84cd-d91b2a1efc99",
      "metadata": {
        "id": "0a614369-e5e3-46fd-84cd-d91b2a1efc99"
      },
      "source": [
        "# ITI110 Project : Energy Consumption Forecasting (Hourly dataset)"
      ]
    },
    {
      "cell_type": "markdown",
      "id": "5aa38856-4229-485b-8dc9-4f8d0a29b324",
      "metadata": {
        "id": "5aa38856-4229-485b-8dc9-4f8d0a29b324"
      },
      "source": [
        "## Data Preprocessing for Hourly Energy Consumption Dataset (Carel)"
      ]
    },
    {
      "cell_type": "code",
      "execution_count": null,
      "id": "c1727187-a549-476c-b906-1ff211fdb866",
      "metadata": {
        "id": "c1727187-a549-476c-b906-1ff211fdb866"
      },
      "outputs": [],
      "source": [
        "import pandas as pd\n",
        "import numpy as np\n",
        "import tqdm\n",
        "import os\n",
        "import warnings\n",
        "warnings.filterwarnings('ignore')\n",
        "np.random.seed()\n",
        "\n",
        "from sklearn.model_selection import train_test_split\n",
        "from sklearn.preprocessing import StandardScaler\n",
        "from sklearn.preprocessing import MinMaxScaler"
      ]
    },
    {
      "cell_type": "markdown",
      "id": "70f9b3d7-eab2-4624-bd22-906d4f059f6d",
      "metadata": {
        "id": "70f9b3d7-eab2-4624-bd22-906d4f059f6d"
      },
      "source": [
        "### Load Data For Hourly Dataset"
      ]
    },
    {
      "cell_type": "code",
      "execution_count": null,
      "id": "6d38dbf6-25d6-43ce-acdf-541e788e3f88",
      "metadata": {
        "id": "6d38dbf6-25d6-43ce-acdf-541e788e3f88"
      },
      "outputs": [],
      "source": [
        "df = pd.read_csv(\"2.2 merged_aggregated_hourly_without_block_id.csv\")\n",
        "\n",
        "# folder_path = r'C:\\Users\\Carel\\Documents\\Course NYP Specialist Diploma in Applied AI PDC2\\SDAAI PDC2\\ITI110 Project\\code file\\WIP project'\n",
        "# csv_files = [file for file in os.listdir(folder_path) if file.endswith('.csv')]\n",
        "\n",
        "# os.listdir(folder_path)\n"
      ]
    },
    {
      "cell_type": "code",
      "execution_count": null,
      "id": "a9b820f8-03e5-4a54-ac83-6288a17d1e85",
      "metadata": {
        "id": "a9b820f8-03e5-4a54-ac83-6288a17d1e85"
      },
      "outputs": [],
      "source": [
        "# !pip install dask"
      ]
    },
    {
      "cell_type": "code",
      "execution_count": null,
      "id": "6d68f42d-1b0f-4d7e-acd8-0d49085f7ad1",
      "metadata": {
        "id": "6d68f42d-1b0f-4d7e-acd8-0d49085f7ad1"
      },
      "outputs": [],
      "source": [
        "# !pip show pyarrow"
      ]
    },
    {
      "cell_type": "code",
      "execution_count": null,
      "id": "59c574a8-5432-457f-9365-1c97541ab1b1",
      "metadata": {
        "id": "59c574a8-5432-457f-9365-1c97541ab1b1",
        "outputId": "250f0033-d30e-427d-bb3c-2315df637931"
      },
      "outputs": [
        {
          "data": {
            "text/html": [
              "<div>\n",
              "<style scoped>\n",
              "    .dataframe tbody tr th:only-of-type {\n",
              "        vertical-align: middle;\n",
              "    }\n",
              "\n",
              "    .dataframe tbody tr th {\n",
              "        vertical-align: top;\n",
              "    }\n",
              "\n",
              "    .dataframe thead th {\n",
              "        text-align: right;\n",
              "    }\n",
              "</style>\n",
              "<table border=\"1\" class=\"dataframe\">\n",
              "  <thead>\n",
              "    <tr style=\"text-align: right;\">\n",
              "      <th></th>\n",
              "      <th>date</th>\n",
              "      <th>month</th>\n",
              "      <th>hour</th>\n",
              "      <th>count_LCLid</th>\n",
              "      <th>count_block_id</th>\n",
              "      <th>sum_energy_by_hour</th>\n",
              "      <th>tstp</th>\n",
              "      <th>avg_energy_per_lclid</th>\n",
              "      <th>holiday</th>\n",
              "      <th>visibility</th>\n",
              "      <th>...</th>\n",
              "      <th>temperature</th>\n",
              "      <th>time</th>\n",
              "      <th>dewPoint</th>\n",
              "      <th>pressure</th>\n",
              "      <th>apparentTemperature</th>\n",
              "      <th>windSpeed</th>\n",
              "      <th>precipType</th>\n",
              "      <th>icon</th>\n",
              "      <th>humidity</th>\n",
              "      <th>summary</th>\n",
              "    </tr>\n",
              "  </thead>\n",
              "  <tbody>\n",
              "    <tr>\n",
              "      <th>0</th>\n",
              "      <td>2011-11-23</td>\n",
              "      <td>11</td>\n",
              "      <td>9</td>\n",
              "      <td>2</td>\n",
              "      <td>2</td>\n",
              "      <td>1.130</td>\n",
              "      <td>2011-11-23 09:00:00</td>\n",
              "      <td>0.565000</td>\n",
              "      <td>0.0</td>\n",
              "      <td>4.39</td>\n",
              "      <td>...</td>\n",
              "      <td>4.84</td>\n",
              "      <td>2011-11-23 09:00:00</td>\n",
              "      <td>4.68</td>\n",
              "      <td>1027.29</td>\n",
              "      <td>3.42</td>\n",
              "      <td>1.78</td>\n",
              "      <td>rain</td>\n",
              "      <td>partly-cloudy-day</td>\n",
              "      <td>0.99</td>\n",
              "      <td>Partly Cloudy</td>\n",
              "    </tr>\n",
              "    <tr>\n",
              "      <th>1</th>\n",
              "      <td>2011-11-23</td>\n",
              "      <td>11</td>\n",
              "      <td>10</td>\n",
              "      <td>6</td>\n",
              "      <td>4</td>\n",
              "      <td>1.508</td>\n",
              "      <td>2011-11-23 10:00:00</td>\n",
              "      <td>0.251333</td>\n",
              "      <td>0.0</td>\n",
              "      <td>6.24</td>\n",
              "      <td>...</td>\n",
              "      <td>5.74</td>\n",
              "      <td>2011-11-23 10:00:00</td>\n",
              "      <td>5.46</td>\n",
              "      <td>1027.67</td>\n",
              "      <td>4.24</td>\n",
              "      <td>1.99</td>\n",
              "      <td>rain</td>\n",
              "      <td>partly-cloudy-day</td>\n",
              "      <td>0.98</td>\n",
              "      <td>Partly Cloudy</td>\n",
              "    </tr>\n",
              "    <tr>\n",
              "      <th>2</th>\n",
              "      <td>2011-11-23</td>\n",
              "      <td>11</td>\n",
              "      <td>11</td>\n",
              "      <td>7</td>\n",
              "      <td>5</td>\n",
              "      <td>2.123</td>\n",
              "      <td>2011-11-23 11:00:00</td>\n",
              "      <td>0.303286</td>\n",
              "      <td>0.0</td>\n",
              "      <td>10.20</td>\n",
              "      <td>...</td>\n",
              "      <td>7.67</td>\n",
              "      <td>2011-11-23 11:00:00</td>\n",
              "      <td>5.74</td>\n",
              "      <td>1027.56</td>\n",
              "      <td>5.94</td>\n",
              "      <td>2.66</td>\n",
              "      <td>rain</td>\n",
              "      <td>partly-cloudy-day</td>\n",
              "      <td>0.88</td>\n",
              "      <td>Partly Cloudy</td>\n",
              "    </tr>\n",
              "    <tr>\n",
              "      <th>3</th>\n",
              "      <td>2011-11-23</td>\n",
              "      <td>11</td>\n",
              "      <td>12</td>\n",
              "      <td>10</td>\n",
              "      <td>7</td>\n",
              "      <td>6.589</td>\n",
              "      <td>2011-11-23 12:00:00</td>\n",
              "      <td>0.658900</td>\n",
              "      <td>0.0</td>\n",
              "      <td>11.62</td>\n",
              "      <td>...</td>\n",
              "      <td>8.84</td>\n",
              "      <td>2011-11-23 12:00:00</td>\n",
              "      <td>6.52</td>\n",
              "      <td>1027.24</td>\n",
              "      <td>7.25</td>\n",
              "      <td>2.80</td>\n",
              "      <td>rain</td>\n",
              "      <td>partly-cloudy-day</td>\n",
              "      <td>0.85</td>\n",
              "      <td>Partly Cloudy</td>\n",
              "    </tr>\n",
              "    <tr>\n",
              "      <th>4</th>\n",
              "      <td>2011-11-23</td>\n",
              "      <td>11</td>\n",
              "      <td>13</td>\n",
              "      <td>13</td>\n",
              "      <td>9</td>\n",
              "      <td>6.263</td>\n",
              "      <td>2011-11-23 13:00:00</td>\n",
              "      <td>0.481769</td>\n",
              "      <td>0.0</td>\n",
              "      <td>12.68</td>\n",
              "      <td>...</td>\n",
              "      <td>9.87</td>\n",
              "      <td>2011-11-23 13:00:00</td>\n",
              "      <td>6.99</td>\n",
              "      <td>1027.35</td>\n",
              "      <td>8.29</td>\n",
              "      <td>3.12</td>\n",
              "      <td>rain</td>\n",
              "      <td>partly-cloudy-day</td>\n",
              "      <td>0.82</td>\n",
              "      <td>Mostly Cloudy</td>\n",
              "    </tr>\n",
              "  </tbody>\n",
              "</table>\n",
              "<p>5 rows × 21 columns</p>\n",
              "</div>"
            ],
            "text/plain": [
              "         date  month  hour  count_LCLid  count_block_id  sum_energy_by_hour  \\\n",
              "0  2011-11-23     11     9            2               2               1.130   \n",
              "1  2011-11-23     11    10            6               4               1.508   \n",
              "2  2011-11-23     11    11            7               5               2.123   \n",
              "3  2011-11-23     11    12           10               7               6.589   \n",
              "4  2011-11-23     11    13           13               9               6.263   \n",
              "\n",
              "                  tstp  avg_energy_per_lclid  holiday  visibility  ...  \\\n",
              "0  2011-11-23 09:00:00              0.565000      0.0        4.39  ...   \n",
              "1  2011-11-23 10:00:00              0.251333      0.0        6.24  ...   \n",
              "2  2011-11-23 11:00:00              0.303286      0.0       10.20  ...   \n",
              "3  2011-11-23 12:00:00              0.658900      0.0       11.62  ...   \n",
              "4  2011-11-23 13:00:00              0.481769      0.0       12.68  ...   \n",
              "\n",
              "   temperature                 time dewPoint  pressure  apparentTemperature  \\\n",
              "0         4.84  2011-11-23 09:00:00     4.68   1027.29                 3.42   \n",
              "1         5.74  2011-11-23 10:00:00     5.46   1027.67                 4.24   \n",
              "2         7.67  2011-11-23 11:00:00     5.74   1027.56                 5.94   \n",
              "3         8.84  2011-11-23 12:00:00     6.52   1027.24                 7.25   \n",
              "4         9.87  2011-11-23 13:00:00     6.99   1027.35                 8.29   \n",
              "\n",
              "   windSpeed  precipType               icon humidity        summary  \n",
              "0       1.78        rain  partly-cloudy-day     0.99  Partly Cloudy  \n",
              "1       1.99        rain  partly-cloudy-day     0.98  Partly Cloudy  \n",
              "2       2.66        rain  partly-cloudy-day     0.88  Partly Cloudy  \n",
              "3       2.80        rain  partly-cloudy-day     0.85  Partly Cloudy  \n",
              "4       3.12        rain  partly-cloudy-day     0.82  Mostly Cloudy  \n",
              "\n",
              "[5 rows x 21 columns]"
            ]
          },
          "execution_count": 5,
          "metadata": {},
          "output_type": "execute_result"
        }
      ],
      "source": [
        "df.head()"
      ]
    },
    {
      "cell_type": "code",
      "execution_count": null,
      "id": "d7391339-6b1c-44d0-b731-6c2303ea4576",
      "metadata": {
        "id": "d7391339-6b1c-44d0-b731-6c2303ea4576",
        "outputId": "6bd08dbe-373d-44f0-db61-512f665e81a3"
      },
      "outputs": [
        {
          "data": {
            "text/plain": [
              "pandas.core.frame.DataFrame"
            ]
          },
          "execution_count": 6,
          "metadata": {},
          "output_type": "execute_result"
        }
      ],
      "source": [
        "type(df)"
      ]
    },
    {
      "cell_type": "code",
      "execution_count": null,
      "id": "1b0ab1ba-49fd-4391-95b5-7ff5f970e756",
      "metadata": {
        "id": "1b0ab1ba-49fd-4391-95b5-7ff5f970e756",
        "outputId": "3d115572-3236-492a-b96b-ccc541b85469"
      },
      "outputs": [
        {
          "data": {
            "text/plain": [
              "Index(['date', 'month', 'hour', 'count_LCLid', 'count_block_id',\n",
              "       'sum_energy_by_hour', 'tstp', 'avg_energy_per_lclid', 'holiday',\n",
              "       'visibility', 'windBearing', 'temperature', 'time', 'dewPoint',\n",
              "       'pressure', 'apparentTemperature', 'windSpeed', 'precipType', 'icon',\n",
              "       'humidity', 'summary'],\n",
              "      dtype='object')"
            ]
          },
          "execution_count": 7,
          "metadata": {},
          "output_type": "execute_result"
        }
      ],
      "source": [
        "df.columns"
      ]
    },
    {
      "cell_type": "code",
      "execution_count": null,
      "id": "62d7022f-647b-4be6-b4fb-c97e10979e6f",
      "metadata": {
        "id": "62d7022f-647b-4be6-b4fb-c97e10979e6f",
        "outputId": "dd943a04-cd39-430e-e5a9-ad32ad64e45d"
      },
      "outputs": [
        {
          "name": "stdout",
          "output_type": "stream",
          "text": [
            "<class 'pandas.core.frame.DataFrame'>\n",
            "RangeIndex: 19864 entries, 0 to 19863\n",
            "Data columns (total 21 columns):\n",
            " #   Column                Non-Null Count  Dtype  \n",
            "---  ------                --------------  -----  \n",
            " 0   date                  19864 non-null  object \n",
            " 1   month                 19864 non-null  int64  \n",
            " 2   hour                  19864 non-null  int64  \n",
            " 3   count_LCLid           19864 non-null  int64  \n",
            " 4   count_block_id        19864 non-null  int64  \n",
            " 5   sum_energy_by_hour    19864 non-null  float64\n",
            " 6   tstp                  19864 non-null  object \n",
            " 7   avg_energy_per_lclid  19864 non-null  float64\n",
            " 8   holiday               19864 non-null  float64\n",
            " 9   visibility            19862 non-null  float64\n",
            " 10  windBearing           19862 non-null  float64\n",
            " 11  temperature           19862 non-null  float64\n",
            " 12  time                  19862 non-null  object \n",
            " 13  dewPoint              19862 non-null  float64\n",
            " 14  pressure              19851 non-null  float64\n",
            " 15  apparentTemperature   19862 non-null  float64\n",
            " 16  windSpeed             19862 non-null  float64\n",
            " 17  precipType            19862 non-null  object \n",
            " 18  icon                  19862 non-null  object \n",
            " 19  humidity              19862 non-null  float64\n",
            " 20  summary               19862 non-null  object \n",
            "dtypes: float64(11), int64(4), object(6)\n",
            "memory usage: 3.2+ MB\n"
          ]
        }
      ],
      "source": [
        "# Initial Overview of the data\n",
        "df.info()"
      ]
    },
    {
      "cell_type": "code",
      "execution_count": null,
      "id": "e39ad2e6-0c94-41c0-98c9-14d24c7c38e3",
      "metadata": {
        "id": "e39ad2e6-0c94-41c0-98c9-14d24c7c38e3",
        "outputId": "4dece253-fa27-487a-ecc6-cca531bd33b8"
      },
      "outputs": [
        {
          "data": {
            "text/plain": [
              "date                     0\n",
              "month                    0\n",
              "hour                     0\n",
              "count_LCLid              0\n",
              "count_block_id           0\n",
              "sum_energy_by_hour       0\n",
              "tstp                     0\n",
              "avg_energy_per_lclid     0\n",
              "holiday                  0\n",
              "visibility               2\n",
              "windBearing              2\n",
              "temperature              2\n",
              "time                     2\n",
              "dewPoint                 2\n",
              "pressure                13\n",
              "apparentTemperature      2\n",
              "windSpeed                2\n",
              "precipType               2\n",
              "icon                     2\n",
              "humidity                 2\n",
              "summary                  2\n",
              "dtype: int64"
            ]
          },
          "execution_count": 9,
          "metadata": {},
          "output_type": "execute_result"
        }
      ],
      "source": [
        "# Compute missing values to view actual missing value count for each column\n",
        "df.isnull().sum()"
      ]
    },
    {
      "cell_type": "markdown",
      "id": "6c3beafe-7f27-4474-bdc8-2103b125bf83",
      "metadata": {
        "id": "6c3beafe-7f27-4474-bdc8-2103b125bf83"
      },
      "source": [
        "#### Drop the category columns"
      ]
    },
    {
      "cell_type": "code",
      "execution_count": null,
      "id": "83e99701-7ab0-4e43-b123-9f53212c8cda",
      "metadata": {
        "id": "83e99701-7ab0-4e43-b123-9f53212c8cda"
      },
      "outputs": [],
      "source": [
        "df = df.drop(['precipType', 'icon', 'summary'], axis=1)"
      ]
    },
    {
      "cell_type": "code",
      "execution_count": null,
      "id": "3c59f419-68f0-4a9f-9b7c-bcc2ff726d17",
      "metadata": {
        "id": "3c59f419-68f0-4a9f-9b7c-bcc2ff726d17"
      },
      "outputs": [],
      "source": [
        "df['date'] = pd.to_datetime(df['date'])\n",
        "df['time'] = pd.to_datetime(df['time'])\n",
        "df['tstp'] = pd.to_datetime(df['tstp'])\n"
      ]
    },
    {
      "cell_type": "code",
      "execution_count": null,
      "id": "13df904c-c31d-41a5-bab6-be94926c3d01",
      "metadata": {
        "id": "13df904c-c31d-41a5-bab6-be94926c3d01"
      },
      "outputs": [],
      "source": []
    },
    {
      "cell_type": "code",
      "execution_count": null,
      "id": "84c49f29-8bf5-4e62-bf33-d91d8817cc9a",
      "metadata": {
        "id": "84c49f29-8bf5-4e62-bf33-d91d8817cc9a",
        "outputId": "ed1c27da-e2e4-415c-84da-9bbb424edbad"
      },
      "outputs": [
        {
          "name": "stdout",
          "output_type": "stream",
          "text": [
            "            date                tstp                time\n",
            "0     2011-11-23 2011-11-23 09:00:00 2011-11-23 09:00:00\n",
            "1     2011-11-23 2011-11-23 10:00:00 2011-11-23 10:00:00\n",
            "2     2011-11-23 2011-11-23 11:00:00 2011-11-23 11:00:00\n",
            "3     2011-11-23 2011-11-23 12:00:00 2011-11-23 12:00:00\n",
            "4     2011-11-23 2011-11-23 13:00:00 2011-11-23 13:00:00\n",
            "...          ...                 ...                 ...\n",
            "19859 2014-02-27 2014-02-27 20:00:00 2014-02-27 20:00:00\n",
            "19860 2014-02-27 2014-02-27 21:00:00 2014-02-27 21:00:00\n",
            "19861 2014-02-27 2014-02-27 22:00:00 2014-02-27 22:00:00\n",
            "19862 2014-02-27 2014-02-27 23:00:00 2014-02-27 23:00:00\n",
            "19863 2014-02-28 2014-02-28 00:00:00 2014-02-28 00:00:00\n",
            "\n",
            "[19864 rows x 3 columns]\n"
          ]
        }
      ],
      "source": [
        "import pandas as pd\n",
        "\n",
        "# Create a new DataFrame with just the 'date', 'tstp' and 'time'  columns\n",
        "date_tstp_time_df = df[['date', 'tstp', 'time']]\n",
        "\n",
        "# Display the new DataFrame\n",
        "print(date_tstp_time_df)"
      ]
    },
    {
      "cell_type": "code",
      "execution_count": null,
      "id": "a2114c62-1340-4bf9-84f0-abc08ea70744",
      "metadata": {
        "id": "a2114c62-1340-4bf9-84f0-abc08ea70744",
        "outputId": "e683afd4-11cd-4f66-9655-00771c2c92c8"
      },
      "outputs": [
        {
          "name": "stdout",
          "output_type": "stream",
          "text": [
            "The 'tstp' and 'time' columns have different values.\n"
          ]
        }
      ],
      "source": [
        "# Check if the 'date' and 'time' columns are the same\n",
        "are_same = (df['tstp'] == df['time']).all()\n",
        "\n",
        "if are_same:\n",
        "    print(\"The 'tstp' and 'time' columns have the same values.\")\n",
        "else:\n",
        "    print(\"The 'tstp' and 'time' columns have different values.\")\n"
      ]
    },
    {
      "cell_type": "markdown",
      "id": "026b3d5c-6764-4601-bba7-f2ee131b8d9b",
      "metadata": {
        "id": "026b3d5c-6764-4601-bba7-f2ee131b8d9b"
      },
      "source": [
        "#### Filter to tstp and time columns to see where the non-matches lie"
      ]
    },
    {
      "cell_type": "code",
      "execution_count": null,
      "id": "82be7602-1e57-4349-bef3-7c4608609f59",
      "metadata": {
        "id": "82be7602-1e57-4349-bef3-7c4608609f59",
        "outputId": "bade4eeb-32f0-4d98-a276-46334966b4a0"
      },
      "outputs": [
        {
          "data": {
            "text/html": [
              "<div>\n",
              "<style scoped>\n",
              "    .dataframe tbody tr th:only-of-type {\n",
              "        vertical-align: middle;\n",
              "    }\n",
              "\n",
              "    .dataframe tbody tr th {\n",
              "        vertical-align: top;\n",
              "    }\n",
              "\n",
              "    .dataframe thead th {\n",
              "        text-align: right;\n",
              "    }\n",
              "</style>\n",
              "<table border=\"1\" class=\"dataframe\">\n",
              "  <thead>\n",
              "    <tr style=\"text-align: right;\">\n",
              "      <th></th>\n",
              "      <th>date</th>\n",
              "      <th>tstp</th>\n",
              "      <th>time</th>\n",
              "    </tr>\n",
              "  </thead>\n",
              "  <tbody>\n",
              "    <tr>\n",
              "      <th>15758</th>\n",
              "      <td>2013-09-09</td>\n",
              "      <td>2013-09-09 23:00:00</td>\n",
              "      <td>NaT</td>\n",
              "    </tr>\n",
              "    <tr>\n",
              "      <th>15759</th>\n",
              "      <td>2013-09-10</td>\n",
              "      <td>2013-09-10 00:00:00</td>\n",
              "      <td>NaT</td>\n",
              "    </tr>\n",
              "  </tbody>\n",
              "</table>\n",
              "</div>"
            ],
            "text/plain": [
              "            date                tstp time\n",
              "15758 2013-09-09 2013-09-09 23:00:00  NaT\n",
              "15759 2013-09-10 2013-09-10 00:00:00  NaT"
            ]
          },
          "execution_count": 14,
          "metadata": {},
          "output_type": "execute_result"
        }
      ],
      "source": [
        "import pandas as pd\n",
        "\n",
        "# Filter rows where 'tstp' and 'time' differ\n",
        "filtered_df = df[df['tstp'] != df['time']]\n",
        "\n",
        "# Display the differences\n",
        "filtered_df[['date', 'tstp', 'time']]\n"
      ]
    },
    {
      "cell_type": "markdown",
      "id": "7d0dbff5-9944-4639-8d8f-eb62ddf33cc5",
      "metadata": {
        "id": "7d0dbff5-9944-4639-8d8f-eb62ddf33cc5"
      },
      "source": [
        "#### Notes: Since 'time' column is exact match with 'tstp' column, except for 2 rows: 15758 and 15759. It will not make sense to inpute the dates in these rows, therefore we will drop these rows."
      ]
    },
    {
      "cell_type": "code",
      "execution_count": null,
      "id": "45cd3c6b-685a-44d9-9462-9c76b033ec9f",
      "metadata": {
        "id": "45cd3c6b-685a-44d9-9462-9c76b033ec9f"
      },
      "outputs": [],
      "source": [
        "# Drop specific rows from the DataFrame\n",
        "df = df.drop([15758, 15759])"
      ]
    },
    {
      "cell_type": "code",
      "execution_count": null,
      "id": "af1b364c-2df5-4efc-b52c-c09582442e14",
      "metadata": {
        "id": "af1b364c-2df5-4efc-b52c-c09582442e14",
        "outputId": "97de11c7-3501-418f-81a2-9dc9c849b188"
      },
      "outputs": [
        {
          "data": {
            "text/plain": [
              "date                     0\n",
              "month                    0\n",
              "hour                     0\n",
              "count_LCLid              0\n",
              "count_block_id           0\n",
              "sum_energy_by_hour       0\n",
              "tstp                     0\n",
              "avg_energy_per_lclid     0\n",
              "holiday                  0\n",
              "visibility               0\n",
              "windBearing              0\n",
              "temperature              0\n",
              "time                     0\n",
              "dewPoint                 0\n",
              "pressure                11\n",
              "apparentTemperature      0\n",
              "windSpeed                0\n",
              "humidity                 0\n",
              "dtype: int64"
            ]
          },
          "execution_count": 16,
          "metadata": {},
          "output_type": "execute_result"
        }
      ],
      "source": [
        "df.isnull().sum()"
      ]
    },
    {
      "cell_type": "markdown",
      "id": "8af63d6b-bb29-47e6-9e36-923f1d1acb48",
      "metadata": {
        "id": "8af63d6b-bb29-47e6-9e36-923f1d1acb48"
      },
      "source": [
        "#### Identify the missing data from pressure column"
      ]
    },
    {
      "cell_type": "code",
      "execution_count": null,
      "id": "6173a1a0-457e-4267-8587-d87a19016b80",
      "metadata": {
        "id": "6173a1a0-457e-4267-8587-d87a19016b80",
        "outputId": "487e7ada-79fe-4f74-919c-96f07db6db25"
      },
      "outputs": [
        {
          "data": {
            "text/html": [
              "<div>\n",
              "<style scoped>\n",
              "    .dataframe tbody tr th:only-of-type {\n",
              "        vertical-align: middle;\n",
              "    }\n",
              "\n",
              "    .dataframe tbody tr th {\n",
              "        vertical-align: top;\n",
              "    }\n",
              "\n",
              "    .dataframe thead th {\n",
              "        text-align: right;\n",
              "    }\n",
              "</style>\n",
              "<table border=\"1\" class=\"dataframe\">\n",
              "  <thead>\n",
              "    <tr style=\"text-align: right;\">\n",
              "      <th></th>\n",
              "      <th>date</th>\n",
              "      <th>month</th>\n",
              "      <th>hour</th>\n",
              "      <th>count_LCLid</th>\n",
              "      <th>count_block_id</th>\n",
              "      <th>sum_energy_by_hour</th>\n",
              "      <th>tstp</th>\n",
              "      <th>avg_energy_per_lclid</th>\n",
              "      <th>holiday</th>\n",
              "      <th>visibility</th>\n",
              "      <th>windBearing</th>\n",
              "      <th>temperature</th>\n",
              "      <th>time</th>\n",
              "      <th>dewPoint</th>\n",
              "      <th>pressure</th>\n",
              "      <th>apparentTemperature</th>\n",
              "      <th>windSpeed</th>\n",
              "      <th>humidity</th>\n",
              "    </tr>\n",
              "  </thead>\n",
              "  <tbody>\n",
              "    <tr>\n",
              "      <th>3993</th>\n",
              "      <td>2012-05-07</td>\n",
              "      <td>5</td>\n",
              "      <td>18</td>\n",
              "      <td>2348</td>\n",
              "      <td>112</td>\n",
              "      <td>1392.479999</td>\n",
              "      <td>2012-05-07 18:00:00</td>\n",
              "      <td>0.593049</td>\n",
              "      <td>0.0</td>\n",
              "      <td>11.27</td>\n",
              "      <td>189.0</td>\n",
              "      <td>12.99</td>\n",
              "      <td>2012-05-07 18:00:00</td>\n",
              "      <td>8.29</td>\n",
              "      <td>NaN</td>\n",
              "      <td>12.99</td>\n",
              "      <td>4.22</td>\n",
              "      <td>0.73</td>\n",
              "    </tr>\n",
              "    <tr>\n",
              "      <th>8118</th>\n",
              "      <td>2012-10-26</td>\n",
              "      <td>10</td>\n",
              "      <td>15</td>\n",
              "      <td>5494</td>\n",
              "      <td>112</td>\n",
              "      <td>2668.932000</td>\n",
              "      <td>2012-10-26 15:00:00</td>\n",
              "      <td>0.485790</td>\n",
              "      <td>0.0</td>\n",
              "      <td>11.27</td>\n",
              "      <td>21.0</td>\n",
              "      <td>7.29</td>\n",
              "      <td>2012-10-26 15:00:00</td>\n",
              "      <td>3.68</td>\n",
              "      <td>NaN</td>\n",
              "      <td>4.21</td>\n",
              "      <td>4.99</td>\n",
              "      <td>0.78</td>\n",
              "    </tr>\n",
              "    <tr>\n",
              "      <th>9766</th>\n",
              "      <td>2013-01-03</td>\n",
              "      <td>1</td>\n",
              "      <td>7</td>\n",
              "      <td>5486</td>\n",
              "      <td>112</td>\n",
              "      <td>1993.104000</td>\n",
              "      <td>2013-01-03 07:00:00</td>\n",
              "      <td>0.363307</td>\n",
              "      <td>0.0</td>\n",
              "      <td>9.66</td>\n",
              "      <td>250.0</td>\n",
              "      <td>9.65</td>\n",
              "      <td>2013-01-03 07:00:00</td>\n",
              "      <td>8.67</td>\n",
              "      <td>NaN</td>\n",
              "      <td>7.07</td>\n",
              "      <td>5.21</td>\n",
              "      <td>0.94</td>\n",
              "    </tr>\n",
              "    <tr>\n",
              "      <th>13540</th>\n",
              "      <td>2013-06-09</td>\n",
              "      <td>6</td>\n",
              "      <td>13</td>\n",
              "      <td>5319</td>\n",
              "      <td>112</td>\n",
              "      <td>2377.313000</td>\n",
              "      <td>2013-06-09 13:00:00</td>\n",
              "      <td>0.446947</td>\n",
              "      <td>0.0</td>\n",
              "      <td>9.98</td>\n",
              "      <td>48.0</td>\n",
              "      <td>13.42</td>\n",
              "      <td>2013-06-09 13:00:00</td>\n",
              "      <td>7.76</td>\n",
              "      <td>NaN</td>\n",
              "      <td>13.42</td>\n",
              "      <td>5.07</td>\n",
              "      <td>0.69</td>\n",
              "    </tr>\n",
              "    <tr>\n",
              "      <th>14799</th>\n",
              "      <td>2013-08-01</td>\n",
              "      <td>8</td>\n",
              "      <td>0</td>\n",
              "      <td>5268</td>\n",
              "      <td>112</td>\n",
              "      <td>1410.029000</td>\n",
              "      <td>2013-08-01 00:00:00</td>\n",
              "      <td>0.267659</td>\n",
              "      <td>0.0</td>\n",
              "      <td>9.98</td>\n",
              "      <td>193.0</td>\n",
              "      <td>19.16</td>\n",
              "      <td>2013-08-01 00:00:00</td>\n",
              "      <td>16.78</td>\n",
              "      <td>NaN</td>\n",
              "      <td>19.38</td>\n",
              "      <td>2.80</td>\n",
              "      <td>0.86</td>\n",
              "    </tr>\n",
              "    <tr>\n",
              "      <th>15160</th>\n",
              "      <td>2013-08-16</td>\n",
              "      <td>8</td>\n",
              "      <td>1</td>\n",
              "      <td>5241</td>\n",
              "      <td>112</td>\n",
              "      <td>1152.973000</td>\n",
              "      <td>2013-08-16 01:00:00</td>\n",
              "      <td>0.219991</td>\n",
              "      <td>0.0</td>\n",
              "      <td>9.98</td>\n",
              "      <td>217.0</td>\n",
              "      <td>17.01</td>\n",
              "      <td>2013-08-16 01:00:00</td>\n",
              "      <td>14.84</td>\n",
              "      <td>NaN</td>\n",
              "      <td>17.04</td>\n",
              "      <td>3.83</td>\n",
              "      <td>0.87</td>\n",
              "    </tr>\n",
              "    <tr>\n",
              "      <th>15398</th>\n",
              "      <td>2013-08-25</td>\n",
              "      <td>8</td>\n",
              "      <td>23</td>\n",
              "      <td>5221</td>\n",
              "      <td>112</td>\n",
              "      <td>1573.785000</td>\n",
              "      <td>2013-08-25 23:00:00</td>\n",
              "      <td>0.301434</td>\n",
              "      <td>0.0</td>\n",
              "      <td>6.39</td>\n",
              "      <td>10.0</td>\n",
              "      <td>17.56</td>\n",
              "      <td>2013-08-25 23:00:00</td>\n",
              "      <td>15.49</td>\n",
              "      <td>NaN</td>\n",
              "      <td>17.66</td>\n",
              "      <td>3.75</td>\n",
              "      <td>0.88</td>\n",
              "    </tr>\n",
              "    <tr>\n",
              "      <th>15399</th>\n",
              "      <td>2013-08-26</td>\n",
              "      <td>8</td>\n",
              "      <td>0</td>\n",
              "      <td>5227</td>\n",
              "      <td>112</td>\n",
              "      <td>1391.607001</td>\n",
              "      <td>2013-08-26 00:00:00</td>\n",
              "      <td>0.266234</td>\n",
              "      <td>1.0</td>\n",
              "      <td>4.39</td>\n",
              "      <td>358.0</td>\n",
              "      <td>17.02</td>\n",
              "      <td>2013-08-26 00:00:00</td>\n",
              "      <td>15.42</td>\n",
              "      <td>NaN</td>\n",
              "      <td>17.13</td>\n",
              "      <td>2.72</td>\n",
              "      <td>0.90</td>\n",
              "    </tr>\n",
              "    <tr>\n",
              "      <th>15736</th>\n",
              "      <td>2013-09-09</td>\n",
              "      <td>9</td>\n",
              "      <td>1</td>\n",
              "      <td>5216</td>\n",
              "      <td>112</td>\n",
              "      <td>1095.127000</td>\n",
              "      <td>2013-09-09 01:00:00</td>\n",
              "      <td>0.209955</td>\n",
              "      <td>0.0</td>\n",
              "      <td>9.51</td>\n",
              "      <td>221.0</td>\n",
              "      <td>9.39</td>\n",
              "      <td>2013-09-09 01:00:00</td>\n",
              "      <td>8.03</td>\n",
              "      <td>NaN</td>\n",
              "      <td>8.03</td>\n",
              "      <td>2.61</td>\n",
              "      <td>0.91</td>\n",
              "    </tr>\n",
              "    <tr>\n",
              "      <th>15739</th>\n",
              "      <td>2013-09-09</td>\n",
              "      <td>9</td>\n",
              "      <td>4</td>\n",
              "      <td>5216</td>\n",
              "      <td>112</td>\n",
              "      <td>1014.337000</td>\n",
              "      <td>2013-09-09 04:00:00</td>\n",
              "      <td>0.194466</td>\n",
              "      <td>0.0</td>\n",
              "      <td>9.46</td>\n",
              "      <td>224.0</td>\n",
              "      <td>9.99</td>\n",
              "      <td>2013-09-09 04:00:00</td>\n",
              "      <td>7.72</td>\n",
              "      <td>NaN</td>\n",
              "      <td>9.64</td>\n",
              "      <td>1.51</td>\n",
              "      <td>0.86</td>\n",
              "    </tr>\n",
              "    <tr>\n",
              "      <th>15842</th>\n",
              "      <td>2013-09-13</td>\n",
              "      <td>9</td>\n",
              "      <td>11</td>\n",
              "      <td>5205</td>\n",
              "      <td>112</td>\n",
              "      <td>1987.752001</td>\n",
              "      <td>2013-09-13 11:00:00</td>\n",
              "      <td>0.381893</td>\n",
              "      <td>0.0</td>\n",
              "      <td>7.24</td>\n",
              "      <td>252.0</td>\n",
              "      <td>18.09</td>\n",
              "      <td>2013-09-13 11:00:00</td>\n",
              "      <td>16.38</td>\n",
              "      <td>NaN</td>\n",
              "      <td>18.30</td>\n",
              "      <td>2.90</td>\n",
              "      <td>0.90</td>\n",
              "    </tr>\n",
              "  </tbody>\n",
              "</table>\n",
              "</div>"
            ],
            "text/plain": [
              "            date  month  hour  count_LCLid  count_block_id  \\\n",
              "3993  2012-05-07      5    18         2348             112   \n",
              "8118  2012-10-26     10    15         5494             112   \n",
              "9766  2013-01-03      1     7         5486             112   \n",
              "13540 2013-06-09      6    13         5319             112   \n",
              "14799 2013-08-01      8     0         5268             112   \n",
              "15160 2013-08-16      8     1         5241             112   \n",
              "15398 2013-08-25      8    23         5221             112   \n",
              "15399 2013-08-26      8     0         5227             112   \n",
              "15736 2013-09-09      9     1         5216             112   \n",
              "15739 2013-09-09      9     4         5216             112   \n",
              "15842 2013-09-13      9    11         5205             112   \n",
              "\n",
              "       sum_energy_by_hour                tstp  avg_energy_per_lclid  holiday  \\\n",
              "3993          1392.479999 2012-05-07 18:00:00              0.593049      0.0   \n",
              "8118          2668.932000 2012-10-26 15:00:00              0.485790      0.0   \n",
              "9766          1993.104000 2013-01-03 07:00:00              0.363307      0.0   \n",
              "13540         2377.313000 2013-06-09 13:00:00              0.446947      0.0   \n",
              "14799         1410.029000 2013-08-01 00:00:00              0.267659      0.0   \n",
              "15160         1152.973000 2013-08-16 01:00:00              0.219991      0.0   \n",
              "15398         1573.785000 2013-08-25 23:00:00              0.301434      0.0   \n",
              "15399         1391.607001 2013-08-26 00:00:00              0.266234      1.0   \n",
              "15736         1095.127000 2013-09-09 01:00:00              0.209955      0.0   \n",
              "15739         1014.337000 2013-09-09 04:00:00              0.194466      0.0   \n",
              "15842         1987.752001 2013-09-13 11:00:00              0.381893      0.0   \n",
              "\n",
              "       visibility  windBearing  temperature                time  dewPoint  \\\n",
              "3993        11.27        189.0        12.99 2012-05-07 18:00:00      8.29   \n",
              "8118        11.27         21.0         7.29 2012-10-26 15:00:00      3.68   \n",
              "9766         9.66        250.0         9.65 2013-01-03 07:00:00      8.67   \n",
              "13540        9.98         48.0        13.42 2013-06-09 13:00:00      7.76   \n",
              "14799        9.98        193.0        19.16 2013-08-01 00:00:00     16.78   \n",
              "15160        9.98        217.0        17.01 2013-08-16 01:00:00     14.84   \n",
              "15398        6.39         10.0        17.56 2013-08-25 23:00:00     15.49   \n",
              "15399        4.39        358.0        17.02 2013-08-26 00:00:00     15.42   \n",
              "15736        9.51        221.0         9.39 2013-09-09 01:00:00      8.03   \n",
              "15739        9.46        224.0         9.99 2013-09-09 04:00:00      7.72   \n",
              "15842        7.24        252.0        18.09 2013-09-13 11:00:00     16.38   \n",
              "\n",
              "       pressure  apparentTemperature  windSpeed  humidity  \n",
              "3993        NaN                12.99       4.22      0.73  \n",
              "8118        NaN                 4.21       4.99      0.78  \n",
              "9766        NaN                 7.07       5.21      0.94  \n",
              "13540       NaN                13.42       5.07      0.69  \n",
              "14799       NaN                19.38       2.80      0.86  \n",
              "15160       NaN                17.04       3.83      0.87  \n",
              "15398       NaN                17.66       3.75      0.88  \n",
              "15399       NaN                17.13       2.72      0.90  \n",
              "15736       NaN                 8.03       2.61      0.91  \n",
              "15739       NaN                 9.64       1.51      0.86  \n",
              "15842       NaN                18.30       2.90      0.90  "
            ]
          },
          "execution_count": 17,
          "metadata": {},
          "output_type": "execute_result"
        }
      ],
      "source": [
        "missing_pressure = df['pressure'].isnull()\n",
        "\n",
        "df_missing_pressure = df[missing_pressure]\n",
        "df_missing_pressure"
      ]
    },
    {
      "cell_type": "code",
      "execution_count": null,
      "id": "3ffbf4ef-a1c0-4670-940a-2445547045d9",
      "metadata": {
        "id": "3ffbf4ef-a1c0-4670-940a-2445547045d9"
      },
      "outputs": [],
      "source": [
        "df['pressure'] = df['pressure'].fillna(df['pressure'].mean())\n",
        "\n",
        "# check that it's been filled\n",
        "# df.isnull().sum()"
      ]
    },
    {
      "cell_type": "code",
      "execution_count": null,
      "id": "0c91bb52-cf6a-4735-935d-307369e9f4f5",
      "metadata": {
        "id": "0c91bb52-cf6a-4735-935d-307369e9f4f5"
      },
      "outputs": [],
      "source": [
        "# # save updated dataset if desired\n",
        "# data = df.to_csv('2.2 merged_aggregated_hourly_without_block_id_prepd.csv')"
      ]
    },
    {
      "cell_type": "markdown",
      "id": "e0aebcb7-626b-451a-a21d-e24d4807e076",
      "metadata": {
        "id": "e0aebcb7-626b-451a-a21d-e24d4807e076"
      },
      "source": [
        "### Splitting the data to prepare for training"
      ]
    },
    {
      "cell_type": "code",
      "execution_count": null,
      "id": "18cfd929-fc9c-4464-a490-f8c0bbd81566",
      "metadata": {
        "id": "18cfd929-fc9c-4464-a490-f8c0bbd81566",
        "outputId": "ce0c3b25-22f6-4b15-9dc2-5fb0fc5160a5"
      },
      "outputs": [
        {
          "name": "stdout",
          "output_type": "stream",
          "text": [
            "dataset no. of rows:  19862\n",
            "train dataset no. of rows:  15889\n",
            "test dataset no. of rows:  3973\n"
          ]
        }
      ],
      "source": [
        "import pandas as pd\n",
        "\n",
        "train_rows = int(0.8*len(df))\n",
        "\n",
        "train = df[:train_rows]\n",
        "test = df[train_rows:]\n",
        "\n",
        "# Check rows\n",
        "print(\"dataset no. of rows: \", len(df))\n",
        "print(\"train dataset no. of rows: \", len(train))\n",
        "print(\"test dataset no. of rows: \", len(test))\n",
        "\n",
        "\n",
        "# parameters for training subject to change depending on experiment plans\n",
        "x_train = train[['temperature', 'humidity', 'windSpeed', 'holiday']]\n",
        "y_train = train[['avg_energy_per_lclid']]\n",
        "\n",
        "x_test = test[['temperature', 'humidity', 'windSpeed', 'holiday']]\n",
        "y_test = test[['avg_energy_per_lclid']]"
      ]
    },
    {
      "cell_type": "markdown",
      "id": "93a21073-0764-4ec4-b910-d09e622586db",
      "metadata": {
        "id": "93a21073-0764-4ec4-b910-d09e622586db"
      },
      "source": [
        "### Normalization / Scaling of data"
      ]
    },
    {
      "cell_type": "markdown",
      "id": "bcb51760-84e8-4879-a900-dc4ca630881a",
      "metadata": {
        "id": "bcb51760-84e8-4879-a900-dc4ca630881a"
      },
      "source": [
        "#### Notes: Normalizing and scaling will depend on the model chosen"
      ]
    },
    {
      "cell_type": "code",
      "execution_count": null,
      "id": "32d00740-1653-4571-a7f8-cecd6a6bd838",
      "metadata": {
        "id": "32d00740-1653-4571-a7f8-cecd6a6bd838"
      },
      "outputs": [],
      "source": [
        "from sklearn.preprocessing import MinMaxScaler\n",
        "\n",
        "# Initialize the MinMaxScaler\n",
        "scaler = MinMaxScaler()\n",
        "\n",
        "# Fit the scaler to the training data and transform the training and test data\n",
        "x_train_normalized = scaler.fit_transform(x_train)\n",
        "x_test_normalized = scaler.transform(x_test)\n",
        "\n",
        "# Now x_train_normalized and x_test_normalized contain the normalized values of the respective features\n"
      ]
    },
    {
      "cell_type": "code",
      "execution_count": null,
      "id": "7c7bda64-ab78-448f-a7cc-ae12f115eeb1",
      "metadata": {
        "id": "7c7bda64-ab78-448f-a7cc-ae12f115eeb1",
        "outputId": "357ea2fd-7e9d-4d54-dded-bcf01e3fb13c"
      },
      "outputs": [
        {
          "name": "stdout",
          "output_type": "stream",
          "text": [
            "Normalized x_train data:\n",
            "[[0.27549947 0.98701299 0.13043478 0.        ]\n",
            " [0.29915878 0.97402597 0.14617691 0.        ]\n",
            " [0.34989485 0.84415584 0.1964018  0.        ]\n",
            " [0.38065195 0.80519481 0.20689655 0.        ]\n",
            " [0.40772871 0.76623377 0.23088456 0.        ]\n",
            " [0.42060988 0.79220779 0.24137931 0.        ]\n",
            " [0.41351209 0.80519481 0.22488756 0.        ]\n",
            " [0.40694006 0.81818182 0.21814093 0.        ]\n",
            " [0.38853838 0.8961039  0.1904048  0.        ]\n",
            " [0.38801262 0.87012987 0.21514243 0.        ]]\n",
            "Normalized x_test data:\n",
            "[[0.51025237 0.58441558 0.53898051 0.        ]\n",
            " [0.52260778 0.62337662 0.57946027 0.        ]\n",
            " [0.51840168 0.76623377 0.55247376 0.        ]\n",
            " [0.51182965 0.84415584 0.60044978 0.        ]\n",
            " [0.52129338 0.87012987 0.62068966 0.        ]\n",
            " [0.52260778 0.90909091 0.59970015 0.        ]\n",
            " [0.53785489 0.92207792 0.56521739 0.        ]\n",
            " [0.54416404 0.90909091 0.51274363 0.        ]\n",
            " [0.55205047 0.85714286 0.40704648 0.        ]\n",
            " [0.51524711 0.80519481 0.38755622 0.        ]]\n"
          ]
        }
      ],
      "source": [
        "# View the normalized data\n",
        "\n",
        "print(\"Normalized x_train data:\")\n",
        "print(x_train_normalized[:10])\n",
        "\n",
        "print(\"Normalized x_test data:\")\n",
        "print(x_test_normalized[:10])\n"
      ]
    },
    {
      "cell_type": "markdown",
      "source": [
        "### The decision was made as a group to leave room for flexibility in terms of normalization and standardization depending on the model chosen."
      ],
      "metadata": {
        "id": "6lkY41ly2O6-"
      },
      "id": "6lkY41ly2O6-"
    },
    {
      "cell_type": "code",
      "source": [],
      "metadata": {
        "id": "djcPfcN-2f5G"
      },
      "id": "djcPfcN-2f5G",
      "execution_count": null,
      "outputs": []
    }
  ],
  "metadata": {
    "colab": {
      "provenance": []
    },
    "kernelspec": {
      "display_name": "Python 3 (ipykernel)",
      "language": "python",
      "name": "python3"
    },
    "language_info": {
      "codemirror_mode": {
        "name": "ipython",
        "version": 3
      },
      "file_extension": ".py",
      "mimetype": "text/x-python",
      "name": "python",
      "nbconvert_exporter": "python",
      "pygments_lexer": "ipython3",
      "version": "3.11.5"
    }
  },
  "nbformat": 4,
  "nbformat_minor": 5
}
